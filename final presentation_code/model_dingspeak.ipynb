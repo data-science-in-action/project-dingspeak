{
 "cells": [
  {
   "cell_type": "markdown",
   "metadata": {},
   "source": [
    "# 导入相关包"
   ]
  },
  {
   "cell_type": "code",
   "execution_count": 1,
   "metadata": {},
   "outputs": [],
   "source": [
    "import numpy as np\n",
    "import pandas as pd\n",
    "import datetime as dt\n",
    "import time\n",
    "import requests\n",
    "import json\n",
    "import matplotlib.pyplot as plt\n",
    "import matplotlib as mpl\n",
    "from scipy.optimize import curve_fit\n",
    "from sklearn.metrics import mean_squared_error"
   ]
  },
  {
   "cell_type": "markdown",
   "metadata": {},
   "source": [
    "# 显示设置"
   ]
  },
  {
   "cell_type": "code",
   "execution_count": 2,
   "metadata": {},
   "outputs": [],
   "source": [
    "mpl.rcParams['font.sans-serif'] = ['SimHei']  # 用来正常显示中文标签\n",
    "mpl.rcParams['axes.unicode_minus'] = False  # 用来正常显示负号"
   ]
  },
  {
   "cell_type": "markdown",
   "metadata": {},
   "source": [
    "# 读取数据"
   ]
  },
  {
   "cell_type": "code",
   "execution_count": 49,
   "metadata": {},
   "outputs": [],
   "source": [
    "data=pd.read_csv('data_Italy.csv')\n",
    "data2=pd.read_csv('data_Italy2.csv')"
   ]
  },
  {
   "cell_type": "code",
   "execution_count": 78,
   "metadata": {},
   "outputs": [],
   "source": [
    "y_data = data2[\"total\"]\n",
    "x=data2[\"time1\"]\n",
    "global first_date # 后续数据可视化需要\n",
    "x_data = np.asarray(range(0,len(y_data))) #时间用天数来进行表示"
   ]
  },
  {
   "cell_type": "markdown",
   "metadata": {},
   "source": [
    "## 定义参数"
   ]
  },
  {
   "cell_type": "code",
   "execution_count": null,
   "metadata": {},
   "outputs": [],
   "source": [
    "hyperparameters_r = None\n",
    "hyperparameters_K = None"
   ]
  },
  {
   "cell_type": "markdown",
   "metadata": {},
   "source": [
    "## 定义模型函数"
   ]
  },
  {
   "cell_type": "code",
   "execution_count": null,
   "metadata": {},
   "outputs": [],
   "source": [
    "def logistic_increase_function(t,P0):\n",
    "    # logistic生长函数：t:time   P0:initial_value    K:capacity  r:increase_rate\n",
    "    # 后面将对r和K进行网格优化\n",
    "    r = hyperparameters_r\n",
    "    K = hyperparameters_K\n",
    "    exp_value = np.exp(r * (t))\n",
    "    return (K * exp_value * P0) / (K + (exp_value - 1) * P0)"
   ]
  },
  {
   "cell_type": "markdown",
   "metadata": {},
   "source": [
    "## 定义参数优化函数"
   ]
  },
  {
   "cell_type": "code",
   "execution_count": 89,
   "metadata": {},
   "outputs": [],
   "source": [
    "def fitting(logistic_increase_function, x_data, y_data):\n",
    "    # 传入要拟合的logistic函数以及数据集\n",
    "    # 返回拟合结果\n",
    "    popt = None\n",
    "    mse = float(\"inf\")\n",
    "    i = 0\n",
    "    # 网格搜索来优化r和K参数\n",
    "    r = None\n",
    "    k = None\n",
    "    k_range = np.arange(200000, 300000, 100)  ##设定取值范围\n",
    "    r_range = np.arange(0, 1, 0.01)    \n",
    "    for k_ in k_range:\n",
    "        global hyperparameters_K\n",
    "        hyperparameters_K = k_\n",
    "        for r_ in r_range:\n",
    "            global hyperparameters_r\n",
    "            hyperparameters_r = r_\n",
    "            # 用非线性最小二乘法拟合\n",
    "            popt_, pcov_ = curve_fit(logistic_increase_function, x_data, y_data, maxfev = 4000)\n",
    "            # 采用均方误准则选择最优参数\n",
    "            mse_ = mean_squared_error(y_data, logistic_increase_function(x_data, *popt_))\n",
    "            if mse_ <= mse:\n",
    "                mse = mse_\n",
    "                popt = popt_\n",
    "                r = r_\n",
    "                k = k_\n",
    "            i = i+1\n",
    "            print('\\r当前进度：{0}{1}%'.format('▉'*int(i*10/len(k_range)/len(r_range)),int(i*100/len(k_range)/len(r_range))), end='')\n",
    "    print('拟合完成')\n",
    "    hyperparameters_K = k\n",
    "    hyperparameters_r = r\n",
    "    popt, pcov = curve_fit(logistic_increase_function, x_data, y_data)\n",
    "    print(\"K:capacity  P0:initial_value   r:increase_rate\")\n",
    "    print(hyperparameters_K, popt, hyperparameters_r)\n",
    "    return hyperparameters_K, hyperparameters_r, popt"
   ]
  },
  {
   "cell_type": "markdown",
   "metadata": {},
   "source": [
    "## 定义预测函数"
   ]
  },
  {
   "cell_type": "code",
   "execution_count": 108,
   "metadata": {},
   "outputs": [],
   "source": [
    "def predict(logistic_increase_function, popt):\n",
    "    # 根据最优参数进行预测\n",
    "    future = np.linspace(0, 112, 112)\n",
    "    future = np.array(future)\n",
    "    future_predict = logistic_increase_function(future, popt)\n",
    "    diff = np.diff(future_predict)\n",
    "    diff = np.insert(diff, 0, np.nan)\n",
    "    return future, future_predict, diff"
   ]
  },
  {
   "cell_type": "markdown",
   "metadata": {},
   "source": [
    "# 调用主函数"
   ]
  },
  {
   "cell_type": "code",
   "execution_count": 93,
   "metadata": {
    "scrolled": true
   },
   "outputs": [
    {
     "name": "stdout",
     "output_type": "stream",
     "text": [
      "当前进度：▉▉▉▉▉▉▉▉▉▉100%拟合完成\n",
      "K:capacity  P0:initial_value   r:increase_rate\n",
      "230100 [4053.89063543] 0.09\n"
     ]
    }
   ],
   "source": [
    "if __name__ == '__main__':\n",
    "    # 拟合并通过网格调参寻找最优参数\n",
    "    K, r, popt = fitting(logistic_increase_function, x_data, y_data)\n",
    "    # 模型预测\n",
    "    future, future_predict, diff= predict(logistic_increase_function, popt)"
   ]
  },
  {
   "cell_type": "markdown",
   "metadata": {},
   "source": [
    "## 将实际值与预测值作为纵轴，天数作为横轴来绘图，绘制出来图如下："
   ]
  },
  {
   "cell_type": "code",
   "execution_count": 111,
   "metadata": {},
   "outputs": [
    {
     "data": {
      "image/png": "[encoded data removed]",
      "text/plain": [
       "<Figure size 432x288 with 1 Axes>"
      ]
     },
     "metadata": {
      "needs_background": "light"
     },
     "output_type": "display_data"
    }
   ],
   "source": [
    "x = x_data\n",
    "y1, y2 = future_predict,y_data\n",
    "plt.plot(x, y1)\n",
    "plt.plot(x, y2)\n",
    "plt.title('line chart')\n",
    "plt.xlabel('days')\n",
    "plt.ylabel('y')\n",
    "plt.show()"
   ]
  }
 ],
 "metadata": {
  "kernelspec": {
   "display_name": "Python 3",
   "language": "python",
   "name": "python3"
  },
  "language_info": {
   "codemirror_mode": {
    "name": "ipython",
    "version": 3
   },
   "file_extension": ".py",
   "mimetype": "text/x-python",
   "name": "python",
   "nbconvert_exporter": "python",
   "pygments_lexer": "ipython3",
   "version": "3.7.4"
  }
 },
 "nbformat": 4,
 "nbformat_minor": 2
}
